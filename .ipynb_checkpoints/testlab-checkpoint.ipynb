{
 "cells": [
  {
   "cell_type": "code",
   "execution_count": 2,
   "id": "cd685cbf",
   "metadata": {},
   "outputs": [
    {
     "name": "stdout",
     "output_type": "stream",
     "text": [
      "{'status': 0, 'msg': 'normal'}\n"
     ]
    }
   ],
   "source": [
    "#%%\n",
    "from __future__ import (absolute_import, division, print_function,unicode_literals)\n",
    "import data.control as ctrl\n",
    "from data.control import get_Kline_csv\n",
    "from datetime import datetime as dat\n",
    "import os\n",
    "import sys\n",
    "import backtrader as bt\n",
    "import backtrader.feeds as btfeeds\n",
    "import pandas as pd\n",
    "import requests as req\n",
    "import backtrader.analyzers as btanalyzers\n",
    "import time\n",
    "from analisys.control import TestStrategy\n",
    "from notfication.control import notfication\n",
    "import backtrader.strategies as btstrats\n",
    "# ----------------------------------\n",
    "\n",
    "        \n",
    "\n",
    "\n"
   ]
  },
  {
   "cell_type": "code",
   "execution_count": 3,
   "id": "4292a8d2",
   "metadata": {},
   "outputs": [
    {
     "name": "stdout",
     "output_type": "stream",
     "text": [
      "from  01 01,2019 ->     13 07,2021\n",
      "date resived!!!\n",
      "folder found \n",
      "successfuly created\n"
     ]
    }
   ],
   "source": [
    "# ---------------------------\n",
    "if __name__ == '__main__':\n",
    "    datapath =ctrl.dirc\n",
    "    data = btfeeds.GenericCSVData(\n",
    "    dataname=get_Kline_csv(name=\"ETHUSDT\",interval=\"1d\",startin=dat(2019,1,1)),\n",
    "\n",
    "    fromdate=dat(2019,1,1),\n",
    "    todate=dat.now(),\n",
    "\n",
    "    nullvalue=0.0,\n",
    "\n",
    "    dtformat=('%Y-%m-%d %H:%M:%S'),\n",
    "\n",
    "    datetime=0,\n",
    "    open=3,\n",
    "    high=1,\n",
    "    low=2,\n",
    "    close=4,\n",
    "    volume=5,\n",
    "    openinterest=-1)\n",
    "    # Create a Data Feed\n",
    "  \n"
   ]
  },
  {
   "cell_type": "code",
   "execution_count": 5,
   "id": "bc94d9d5",
   "metadata": {},
   "outputs": [
    {
     "name": "stdout",
     "output_type": "stream",
     "text": [
      "Starting Portfolio Value: 100000.00\n"
     ]
    }
   ],
   "source": [
    "    cerebro = bt.Cerebro()\n",
    "    cerebro.addstrategy(btstrats.SMA_CrossOver)\n",
    "    cerebro.addanalyzer(bt.analyzers.PyFolio,_name='pyfolio')\n",
    "    cerebro.broker.setcash(100000)\n",
    "    cerebro.adddata(data)\n",
    "    print('Starting Portfolio Value: %.2f' % cerebro.broker.getvalue())\n",
    "    cerebro.broker.setcommission(commission=0.002)\n",
    "    results = cerebro.run()\n",
    "    strat = results[0]\n",
    "    pyfoliozer = strat.analyzers.getbyname('pyfolio')\n",
    "    returns, positions, transactions, gross_lev = pyfoliozer.get_pf_items()\n",
    " "
   ]
  },
  {
   "cell_type": "code",
   "execution_count": null,
   "id": "81c148b9",
   "metadata": {},
   "outputs": [],
   "source": [
    "   \"\"\"\n",
    "    import pyfolio as pf\n",
    "    pf.create_full_tear_sheet(\n",
    "    returns,\n",
    "    positions=positions,\n",
    "    transactions=transactions,\n",
    "    gross_lev=gross_lev,\n",
    "    live_start_date='2019-01-01',  # This date is sample specific\n",
    "    round_trips=True)\n",
    "    \"\"\"\n",
    "\n",
    "# %%"
   ]
  },
  {
   "cell_type": "code",
   "execution_count": 21,
   "id": "28091034",
   "metadata": {},
   "outputs": [
    {
     "data": {
      "text/plain": [
       "index\n",
       "2021-01-01 23:59:59.999989+00:00    0.000000\n",
       "2021-01-02 23:59:59.999989+00:00    0.000000\n",
       "2021-01-03 23:59:59.999989+00:00    0.000000\n",
       "2021-01-04 23:59:59.999989+00:00    0.000000\n",
       "2021-01-05 23:59:59.999989+00:00    0.000000\n",
       "                                      ...   \n",
       "2021-07-08 23:59:59.999989+00:00    0.000000\n",
       "2021-07-09 23:59:59.999989+00:00    0.021445\n",
       "2021-07-10 23:59:59.999989+00:00    0.021090\n",
       "2021-07-11 23:59:59.999989+00:00    0.021381\n",
       "2021-07-12 23:59:59.999989+00:00    0.020316\n",
       "Name: gross_lev, Length: 193, dtype: float64"
      ]
     },
     "execution_count": 21,
     "metadata": {},
     "output_type": "execute_result"
    }
   ],
   "source": [
    "data=pyfoliozer.get_pf_items()\n",
    "# df = pd.DataFrame(data, columns=['returns', 'positions', 'transactions', 'gross_lev'])\n",
    "a=data[0]\n",
    "b=data[1]\n",
    "c=data[2]\n",
    "e=data[3]\n",
    "e"
   ]
  },
  {
   "cell_type": "code",
   "execution_count": null,
   "id": "c2790554",
   "metadata": {},
   "outputs": [],
   "source": []
  }
 ],
 "metadata": {
  "kernelspec": {
   "display_name": "Python 3 (ipykernel)",
   "language": "python",
   "name": "python3"
  },
  "language_info": {
   "codemirror_mode": {
    "name": "ipython",
    "version": 3
   },
   "file_extension": ".py",
   "mimetype": "text/x-python",
   "name": "python",
   "nbconvert_exporter": "python",
   "pygments_lexer": "ipython3",
   "version": "3.9.6"
  }
 },
 "nbformat": 4,
 "nbformat_minor": 5
}
